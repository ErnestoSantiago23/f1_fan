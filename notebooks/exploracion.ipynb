{
 "cells": [
  {
   "cell_type": "markdown",
   "id": "2e640b77-09fd-4188-8b59-c560a60e81b1",
   "metadata": {},
   "source": [
    "# Exploración DataSet"
   ]
  },
  {
   "cell_type": "markdown",
   "id": "40e421c4-86cb-426c-b8a8-4dbffcb0e6d7",
   "metadata": {},
   "source": [
    "## Analisis de [Kaggle Dataset](https://www.kaggle.com/datasets/rohanrao/formula-1-world-championship-1950-2020/data) De la Formula 1 desde sus inicios en 1950 hasta la temporada 2023. "
   ]
  },
  {
   "cell_type": "code",
   "execution_count": 1,
   "id": "924801cc-8977-44e8-b495-215eb1f7c3ef",
   "metadata": {},
   "outputs": [],
   "source": [
    "import os\n",
    "import numpy as np\n",
    "import pandas as pd\n",
    "import matplotlib.pyplot as plt\n",
    "import seaborn as sns\n",
    "\n",
    "# Configuración para que las figuras de Matplotlib aparezcan en el notebook\n",
    "%matplotlib inline"
   ]
  },
  {
   "cell_type": "markdown",
   "id": "1ed3a69e-553b-46bf-a370-de9a7fbc7e8a",
   "metadata": {},
   "source": [
    "---\n",
    "\n",
    "### Carguemos los dataset:"
   ]
  },
  {
   "cell_type": "code",
   "execution_count": 2,
   "id": "c298d0a4-bdcc-45be-a00d-31563129d4fd",
   "metadata": {},
   "outputs": [
    {
     "data": {
      "text/plain": [
       "['qualifying.csv',\n",
       " 'constructors.csv',\n",
       " 'circuits.csv',\n",
       " 'results.csv',\n",
       " 'constructor_standings.csv',\n",
       " 'driver_standings.csv',\n",
       " 'races.csv',\n",
       " 'constructor_results.csv',\n",
       " 'drivers.csv',\n",
       " 'status.csv',\n",
       " 'sprint_results.csv',\n",
       " 'lap_times.csv',\n",
       " 'seasons.csv',\n",
       " 'pit_stops.csv']"
      ]
     },
     "execution_count": 2,
     "metadata": {},
     "output_type": "execute_result"
    }
   ],
   "source": [
    "ruta_directorio = '../raw_data/'\n",
    "nombres_archivos = [archivo for archivo in os.listdir(ruta_directorio) if archivo.endswith('.csv')]\n",
    "nombres_archivos"
   ]
  },
  {
   "cell_type": "code",
   "execution_count": 3,
   "id": "f390a576-81fb-4555-a085-528cccf6102d",
   "metadata": {},
   "outputs": [],
   "source": [
    "dataframes = {}\n",
    "\n",
    "for nombre_archivo in nombres_archivos:\n",
    "    ruta_completa = os.path.join(ruta_directorio, nombre_archivo)\n",
    "    qualifying_df = nombre_archivo.replace('.csv', '')\n",
    "    dataframes[qualifying_df] = pd.read_csv(ruta_completa)"
   ]
  },
  {
   "cell_type": "code",
   "execution_count": 5,
   "id": "df3f5ccf-a920-44ff-80a3-999b8d9753a0",
   "metadata": {},
   "outputs": [
    {
     "data": {
      "text/plain": [
       "dict_keys(['qualifying', 'constructors', 'circuits', 'results', 'constructor_standings', 'driver_standings', 'races', 'constructor_results', 'drivers', 'status', 'sprint_results', 'lap_times', 'seasons', 'pit_stops'])"
      ]
     },
     "execution_count": 5,
     "metadata": {},
     "output_type": "execute_result"
    }
   ],
   "source": [
    "claves = dataframes.keys()\n",
    "claves"
   ]
  },
  {
   "cell_type": "code",
   "execution_count": 6,
   "id": "57a8b92b-377b-4807-a379-a01270286f83",
   "metadata": {},
   "outputs": [
    {
     "data": {
      "text/plain": [
       "['qualifying',\n",
       " 'constructors',\n",
       " 'circuits',\n",
       " 'results',\n",
       " 'constructor_standings',\n",
       " 'driver_standings',\n",
       " 'races',\n",
       " 'constructor_results',\n",
       " 'drivers',\n",
       " 'status',\n",
       " 'sprint_results',\n",
       " 'lap_times',\n",
       " 'seasons',\n",
       " 'pit_stops']"
      ]
     },
     "execution_count": 6,
     "metadata": {},
     "output_type": "execute_result"
    }
   ],
   "source": [
    "lista_claves = list(claves)\n",
    "lista_claves"
   ]
  },
  {
   "cell_type": "markdown",
   "id": "bac42dcd-acfd-425c-a145-f589983bf43a",
   "metadata": {},
   "source": [
    "---\n",
    "### Construcción de DataFrames"
   ]
  },
  {
   "cell_type": "code",
   "execution_count": 9,
   "id": "a9bfc8c8-a5cb-41e2-b3be-b1e769771f05",
   "metadata": {},
   "outputs": [],
   "source": [
    "pit_stops_df = dataframes['pit_stops'] \n",
    "qualifying_df = dataframes['qualifying']\n",
    "constructors_df = dataframes['constructors']\n",
    "circuits_df = dataframes['circuits']\n",
    "results_df = dataframes['results']\n",
    "constructor_standings_df = dataframes['constructor_standings']\n",
    "driver_standings_df = dataframes['driver_standings']\n",
    "constructor_results_df = dataframes['constructor_results']\n",
    "drivers_df = dataframes['drivers']\n",
    "status_df = dataframes['status']\n",
    "sprint_results_df = dataframes['sprint_results']\n",
    "lap_times_df = dataframes['lap_times']\n",
    "seasons_df = dataframes['seasons']\n",
    "races_df = dataframes['races'] "
   ]
  },
  {
   "cell_type": "code",
   "execution_count": 79,
   "id": "17e5bed3-7db4-4661-b5e6-295c9307acee",
   "metadata": {},
   "outputs": [
    {
     "data": {
      "text/plain": [
       "(9815, 9)"
      ]
     },
     "execution_count": 79,
     "metadata": {},
     "output_type": "execute_result"
    }
   ],
   "source": [
    "qualifying_df.shape"
   ]
  },
  {
   "cell_type": "code",
   "execution_count": 80,
   "id": "3bb61986-c2ce-4402-be49-1861e4cb10f1",
   "metadata": {},
   "outputs": [
    {
     "name": "stdout",
     "output_type": "stream",
     "text": [
      "<class 'pandas.core.frame.DataFrame'>\n",
      "RangeIndex: 9815 entries, 0 to 9814\n",
      "Data columns (total 9 columns):\n",
      " #   Column         Non-Null Count  Dtype \n",
      "---  ------         --------------  ----- \n",
      " 0   qualifyId      9815 non-null   int64 \n",
      " 1   raceId         9815 non-null   int64 \n",
      " 2   driverId       9815 non-null   int64 \n",
      " 3   constructorId  9815 non-null   int64 \n",
      " 4   number         9815 non-null   int64 \n",
      " 5   position       9815 non-null   int64 \n",
      " 6   q1             9807 non-null   object\n",
      " 7   q2             9651 non-null   object\n",
      " 8   q3             9488 non-null   object\n",
      "dtypes: int64(6), object(3)\n",
      "memory usage: 690.2+ KB\n"
     ]
    }
   ],
   "source": [
    "qualifying_df.info()"
   ]
  },
  {
   "cell_type": "code",
   "execution_count": 81,
   "id": "c09c98b3-d442-41a9-8d83-d662c09a4658",
   "metadata": {},
   "outputs": [
    {
     "data": {
      "text/html": [
       "<div>\n",
       "<style scoped>\n",
       "    .dataframe tbody tr th:only-of-type {\n",
       "        vertical-align: middle;\n",
       "    }\n",
       "\n",
       "    .dataframe tbody tr th {\n",
       "        vertical-align: top;\n",
       "    }\n",
       "\n",
       "    .dataframe thead th {\n",
       "        text-align: right;\n",
       "    }\n",
       "</style>\n",
       "<table border=\"1\" class=\"dataframe\">\n",
       "  <thead>\n",
       "    <tr style=\"text-align: right;\">\n",
       "      <th></th>\n",
       "      <th>qualifyId</th>\n",
       "      <th>raceId</th>\n",
       "      <th>driverId</th>\n",
       "      <th>constructorId</th>\n",
       "      <th>number</th>\n",
       "      <th>position</th>\n",
       "    </tr>\n",
       "  </thead>\n",
       "  <tbody>\n",
       "    <tr>\n",
       "      <th>count</th>\n",
       "      <td>9815.000000</td>\n",
       "      <td>9815.000000</td>\n",
       "      <td>9815.000000</td>\n",
       "      <td>9815.000000</td>\n",
       "      <td>9815.000000</td>\n",
       "      <td>9815.000000</td>\n",
       "    </tr>\n",
       "    <tr>\n",
       "      <th>mean</th>\n",
       "      <td>4920.076108</td>\n",
       "      <td>589.809985</td>\n",
       "      <td>314.514519</td>\n",
       "      <td>44.783597</td>\n",
       "      <td>18.114519</td>\n",
       "      <td>11.244931</td>\n",
       "    </tr>\n",
       "    <tr>\n",
       "      <th>std</th>\n",
       "      <td>2847.637640</td>\n",
       "      <td>421.207023</td>\n",
       "      <td>381.264736</td>\n",
       "      <td>70.843628</td>\n",
       "      <td>17.859565</td>\n",
       "      <td>6.290625</td>\n",
       "    </tr>\n",
       "    <tr>\n",
       "      <th>min</th>\n",
       "      <td>1.000000</td>\n",
       "      <td>1.000000</td>\n",
       "      <td>1.000000</td>\n",
       "      <td>1.000000</td>\n",
       "      <td>0.000000</td>\n",
       "      <td>1.000000</td>\n",
       "    </tr>\n",
       "    <tr>\n",
       "      <th>25%</th>\n",
       "      <td>2455.500000</td>\n",
       "      <td>119.500000</td>\n",
       "      <td>16.000000</td>\n",
       "      <td>4.000000</td>\n",
       "      <td>7.000000</td>\n",
       "      <td>6.000000</td>\n",
       "    </tr>\n",
       "    <tr>\n",
       "      <th>50%</th>\n",
       "      <td>4910.000000</td>\n",
       "      <td>856.000000</td>\n",
       "      <td>50.000000</td>\n",
       "      <td>9.000000</td>\n",
       "      <td>14.000000</td>\n",
       "      <td>11.000000</td>\n",
       "    </tr>\n",
       "    <tr>\n",
       "      <th>75%</th>\n",
       "      <td>7383.500000</td>\n",
       "      <td>981.000000</td>\n",
       "      <td>818.000000</td>\n",
       "      <td>28.000000</td>\n",
       "      <td>22.000000</td>\n",
       "      <td>17.000000</td>\n",
       "    </tr>\n",
       "    <tr>\n",
       "      <th>max</th>\n",
       "      <td>9872.000000</td>\n",
       "      <td>1110.000000</td>\n",
       "      <td>858.000000</td>\n",
       "      <td>214.000000</td>\n",
       "      <td>99.000000</td>\n",
       "      <td>28.000000</td>\n",
       "    </tr>\n",
       "  </tbody>\n",
       "</table>\n",
       "</div>"
      ],
      "text/plain": [
       "         qualifyId       raceId     driverId  constructorId       number  \\\n",
       "count  9815.000000  9815.000000  9815.000000    9815.000000  9815.000000   \n",
       "mean   4920.076108   589.809985   314.514519      44.783597    18.114519   \n",
       "std    2847.637640   421.207023   381.264736      70.843628    17.859565   \n",
       "min       1.000000     1.000000     1.000000       1.000000     0.000000   \n",
       "25%    2455.500000   119.500000    16.000000       4.000000     7.000000   \n",
       "50%    4910.000000   856.000000    50.000000       9.000000    14.000000   \n",
       "75%    7383.500000   981.000000   818.000000      28.000000    22.000000   \n",
       "max    9872.000000  1110.000000   858.000000     214.000000    99.000000   \n",
       "\n",
       "          position  \n",
       "count  9815.000000  \n",
       "mean     11.244931  \n",
       "std       6.290625  \n",
       "min       1.000000  \n",
       "25%       6.000000  \n",
       "50%      11.000000  \n",
       "75%      17.000000  \n",
       "max      28.000000  "
      ]
     },
     "execution_count": 81,
     "metadata": {},
     "output_type": "execute_result"
    }
   ],
   "source": [
    "qualifying_df.describe()"
   ]
  },
  {
   "cell_type": "code",
   "execution_count": 82,
   "id": "69c6902a-7a2d-42c3-b763-f21c45534df0",
   "metadata": {},
   "outputs": [
    {
     "data": {
      "text/html": [
       "<div>\n",
       "<style scoped>\n",
       "    .dataframe tbody tr th:only-of-type {\n",
       "        vertical-align: middle;\n",
       "    }\n",
       "\n",
       "    .dataframe tbody tr th {\n",
       "        vertical-align: top;\n",
       "    }\n",
       "\n",
       "    .dataframe thead th {\n",
       "        text-align: right;\n",
       "    }\n",
       "</style>\n",
       "<table border=\"1\" class=\"dataframe\">\n",
       "  <thead>\n",
       "    <tr style=\"text-align: right;\">\n",
       "      <th></th>\n",
       "      <th>qualifyId</th>\n",
       "      <th>raceId</th>\n",
       "      <th>driverId</th>\n",
       "      <th>constructorId</th>\n",
       "      <th>number</th>\n",
       "      <th>position</th>\n",
       "      <th>q1</th>\n",
       "      <th>q2</th>\n",
       "      <th>q3</th>\n",
       "    </tr>\n",
       "  </thead>\n",
       "  <tbody>\n",
       "    <tr>\n",
       "      <th>0</th>\n",
       "      <td>1</td>\n",
       "      <td>18</td>\n",
       "      <td>1</td>\n",
       "      <td>1</td>\n",
       "      <td>22</td>\n",
       "      <td>1</td>\n",
       "      <td>1:26.572</td>\n",
       "      <td>1:25.187</td>\n",
       "      <td>1:26.714</td>\n",
       "    </tr>\n",
       "    <tr>\n",
       "      <th>1</th>\n",
       "      <td>2</td>\n",
       "      <td>18</td>\n",
       "      <td>9</td>\n",
       "      <td>2</td>\n",
       "      <td>4</td>\n",
       "      <td>2</td>\n",
       "      <td>1:26.103</td>\n",
       "      <td>1:25.315</td>\n",
       "      <td>1:26.869</td>\n",
       "    </tr>\n",
       "    <tr>\n",
       "      <th>2</th>\n",
       "      <td>3</td>\n",
       "      <td>18</td>\n",
       "      <td>5</td>\n",
       "      <td>1</td>\n",
       "      <td>23</td>\n",
       "      <td>3</td>\n",
       "      <td>1:25.664</td>\n",
       "      <td>1:25.452</td>\n",
       "      <td>1:27.079</td>\n",
       "    </tr>\n",
       "    <tr>\n",
       "      <th>3</th>\n",
       "      <td>4</td>\n",
       "      <td>18</td>\n",
       "      <td>13</td>\n",
       "      <td>6</td>\n",
       "      <td>2</td>\n",
       "      <td>4</td>\n",
       "      <td>1:25.994</td>\n",
       "      <td>1:25.691</td>\n",
       "      <td>1:27.178</td>\n",
       "    </tr>\n",
       "    <tr>\n",
       "      <th>4</th>\n",
       "      <td>5</td>\n",
       "      <td>18</td>\n",
       "      <td>2</td>\n",
       "      <td>2</td>\n",
       "      <td>3</td>\n",
       "      <td>5</td>\n",
       "      <td>1:25.960</td>\n",
       "      <td>1:25.518</td>\n",
       "      <td>1:27.236</td>\n",
       "    </tr>\n",
       "    <tr>\n",
       "      <th>...</th>\n",
       "      <td>...</td>\n",
       "      <td>...</td>\n",
       "      <td>...</td>\n",
       "      <td>...</td>\n",
       "      <td>...</td>\n",
       "      <td>...</td>\n",
       "      <td>...</td>\n",
       "      <td>...</td>\n",
       "      <td>...</td>\n",
       "    </tr>\n",
       "    <tr>\n",
       "      <th>9810</th>\n",
       "      <td>9868</td>\n",
       "      <td>1110</td>\n",
       "      <td>848</td>\n",
       "      <td>3</td>\n",
       "      <td>23</td>\n",
       "      <td>16</td>\n",
       "      <td>2:00.314</td>\n",
       "      <td>\\N</td>\n",
       "      <td>\\N</td>\n",
       "    </tr>\n",
       "    <tr>\n",
       "      <th>9811</th>\n",
       "      <td>9869</td>\n",
       "      <td>1110</td>\n",
       "      <td>855</td>\n",
       "      <td>51</td>\n",
       "      <td>24</td>\n",
       "      <td>17</td>\n",
       "      <td>2:00.832</td>\n",
       "      <td>\\N</td>\n",
       "      <td>\\N</td>\n",
       "    </tr>\n",
       "    <tr>\n",
       "      <th>9812</th>\n",
       "      <td>9870</td>\n",
       "      <td>1110</td>\n",
       "      <td>858</td>\n",
       "      <td>3</td>\n",
       "      <td>2</td>\n",
       "      <td>18</td>\n",
       "      <td>2:01.535</td>\n",
       "      <td>\\N</td>\n",
       "      <td>\\N</td>\n",
       "    </tr>\n",
       "    <tr>\n",
       "      <th>9813</th>\n",
       "      <td>9871</td>\n",
       "      <td>1110</td>\n",
       "      <td>817</td>\n",
       "      <td>213</td>\n",
       "      <td>3</td>\n",
       "      <td>19</td>\n",
       "      <td>2:02.159</td>\n",
       "      <td>\\N</td>\n",
       "      <td>\\N</td>\n",
       "    </tr>\n",
       "    <tr>\n",
       "      <th>9814</th>\n",
       "      <td>9872</td>\n",
       "      <td>1110</td>\n",
       "      <td>807</td>\n",
       "      <td>210</td>\n",
       "      <td>27</td>\n",
       "      <td>20</td>\n",
       "      <td>2:03.166</td>\n",
       "      <td>\\N</td>\n",
       "      <td>\\N</td>\n",
       "    </tr>\n",
       "  </tbody>\n",
       "</table>\n",
       "<p>9815 rows × 9 columns</p>\n",
       "</div>"
      ],
      "text/plain": [
       "      qualifyId  raceId  driverId  constructorId  number  position        q1  \\\n",
       "0             1      18         1              1      22         1  1:26.572   \n",
       "1             2      18         9              2       4         2  1:26.103   \n",
       "2             3      18         5              1      23         3  1:25.664   \n",
       "3             4      18        13              6       2         4  1:25.994   \n",
       "4             5      18         2              2       3         5  1:25.960   \n",
       "...         ...     ...       ...            ...     ...       ...       ...   \n",
       "9810       9868    1110       848              3      23        16  2:00.314   \n",
       "9811       9869    1110       855             51      24        17  2:00.832   \n",
       "9812       9870    1110       858              3       2        18  2:01.535   \n",
       "9813       9871    1110       817            213       3        19  2:02.159   \n",
       "9814       9872    1110       807            210      27        20  2:03.166   \n",
       "\n",
       "            q2        q3  \n",
       "0     1:25.187  1:26.714  \n",
       "1     1:25.315  1:26.869  \n",
       "2     1:25.452  1:27.079  \n",
       "3     1:25.691  1:27.178  \n",
       "4     1:25.518  1:27.236  \n",
       "...        ...       ...  \n",
       "9810        \\N        \\N  \n",
       "9811        \\N        \\N  \n",
       "9812        \\N        \\N  \n",
       "9813        \\N        \\N  \n",
       "9814        \\N        \\N  \n",
       "\n",
       "[9815 rows x 9 columns]"
      ]
     },
     "execution_count": 82,
     "metadata": {},
     "output_type": "execute_result"
    }
   ],
   "source": [
    "qualifying_df"
   ]
  }
 ],
 "metadata": {
  "kernelspec": {
   "display_name": "Python 3 (ipykernel)",
   "language": "python",
   "name": "python3"
  },
  "language_info": {
   "codemirror_mode": {
    "name": "ipython",
    "version": 3
   },
   "file_extension": ".py",
   "mimetype": "text/x-python",
   "name": "python",
   "nbconvert_exporter": "python",
   "pygments_lexer": "ipython3",
   "version": "3.10.6"
  }
 },
 "nbformat": 4,
 "nbformat_minor": 5
}
